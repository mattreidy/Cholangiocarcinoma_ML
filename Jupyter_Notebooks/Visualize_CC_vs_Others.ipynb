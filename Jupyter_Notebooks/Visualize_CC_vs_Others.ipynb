{
 "cells": [
  {
   "cell_type": "markdown",
   "id": "54698eb3",
   "metadata": {},
   "source": [
    "Copyright (C) 2022 Greenweaves Software Limited"
   ]
  },
  {
   "cell_type": "markdown",
   "id": "1fcad0d2",
   "metadata": {},
   "source": [
    "This is free software: you can redistribute it and/or modify\n",
    "it under the terms of the GNU General Public License as published by\n",
    "the Free Software Foundation, either version 3 of the License, or\n",
    "(at your option) any later version."
   ]
  },
  {
   "cell_type": "markdown",
   "id": "aa02ca9e",
   "metadata": {},
   "source": [
    "This software is distributed in the hope that it will be useful,\n",
    "but WITHOUT ANY WARRANTY; without even the implied warranty of\n",
    "MERCHANTABILITY or FITNESS FOR A PARTICULAR PURPOSE.  See the\n",
    "GNU General Public License for more details."
   ]
  },
  {
   "cell_type": "markdown",
   "id": "5cff6ce9",
   "metadata": {},
   "source": [
    "You should have received a copy of the GNU General Public License\n",
    "along with GNU Emacs.  If not, see <http://www.gnu.org/licenses/>"
   ]
  },
  {
   "cell_type": "code",
   "execution_count": 5,
   "id": "a7038cce",
   "metadata": {
    "lines_to_next_cell": 1
   },
   "outputs": [],
   "source": [
    "from os.path           import join\n",
    "from matplotlib.pyplot import figure, savefig, show, title\n",
    "from pandas            import read_csv\n",
    "from seaborn           import heatmap"
   ]
  },
  {
   "cell_type": "code",
   "execution_count": 6,
   "id": "d805f224",
   "metadata": {
    "lines_to_next_cell": 1
   },
   "outputs": [],
   "source": [
    "def read_and_split(path      = r'G:\\My Drive\\Machine Learning\\Cholangiocarcinoma_ML\\Data_Files',\n",
    "                   file_name = 'cc_cancer_mutations_post_LASSO',\n",
    "                   ext       = 'csv'):\n",
    "    def extract(df,cancer_type=0):\n",
    "        return df.loc[df.cancer_type==cancer_type,].drop(['cancer_type'],\n",
    "                                               axis    = 1,\n",
    "                                               inplace = False)\n",
    "    df = read_csv(join(path,f'{file_name}.{ext}'))\n",
    "    return (extract(df,cancer_type=0),\n",
    "            extract(df,cancer_type=1))"
   ]
  },
  {
   "cell_type": "code",
   "execution_count": 7,
   "id": "82d08296",
   "metadata": {
    "lines_to_next_cell": 1
   },
   "outputs": [],
   "source": [
    "def decorate_plot(ax    = None,\n",
    "                  title = 'Cancer'):\n",
    "    ax.set_title(title)\n",
    "    ax.tick_params(which       = 'both',\n",
    "                   bottom      = False,\n",
    "                   top         = False,\n",
    "                   labelleft   = False,\n",
    "                   labelbottom = False )"
   ]
  },
  {
   "cell_type": "code",
   "execution_count": 8,
   "id": "596bbd7a",
   "metadata": {},
   "outputs": [
    {
     "ename": "AttributeError",
     "evalue": "'DataFrame' object has no attribute 'cancer_type'",
     "output_type": "error",
     "traceback": [
      "\u001b[1;31m---------------------------------------------------------------------------\u001b[0m",
      "\u001b[1;31mAttributeError\u001b[0m                            Traceback (most recent call last)",
      "Input \u001b[1;32mIn [8]\u001b[0m, in \u001b[0;36m<module>\u001b[1;34m\u001b[0m\n\u001b[0;32m      1\u001b[0m \u001b[38;5;28;01mif\u001b[39;00m \u001b[38;5;18m__name__\u001b[39m\u001b[38;5;241m==\u001b[39m\u001b[38;5;124m'\u001b[39m\u001b[38;5;124m__main__\u001b[39m\u001b[38;5;124m'\u001b[39m:\n\u001b[1;32m----> 2\u001b[0m     other_cancer,cholangiocarcinoma \u001b[38;5;241m=\u001b[39m \u001b[43mread_and_split\u001b[49m\u001b[43m(\u001b[49m\u001b[43m)\u001b[49m\n\u001b[0;32m      3\u001b[0m     counts_other                    \u001b[38;5;241m=\u001b[39m other_cancer\u001b[38;5;241m.\u001b[39msum(axis\u001b[38;5;241m=\u001b[39m\u001b[38;5;241m0\u001b[39m)\n\u001b[0;32m      4\u001b[0m     sorted_on_counts                \u001b[38;5;241m=\u001b[39m counts_other\u001b[38;5;241m.\u001b[39msort_values(ascending\u001b[38;5;241m=\u001b[39m\u001b[38;5;28;01mFalse\u001b[39;00m)\n",
      "Input \u001b[1;32mIn [6]\u001b[0m, in \u001b[0;36mread_and_split\u001b[1;34m(path, file_name, ext)\u001b[0m\n\u001b[0;32m      5\u001b[0m     \u001b[38;5;28;01mreturn\u001b[39;00m df\u001b[38;5;241m.\u001b[39mloc[df\u001b[38;5;241m.\u001b[39mcancer_type\u001b[38;5;241m==\u001b[39mcancer_type,]\u001b[38;5;241m.\u001b[39mdrop([\u001b[38;5;124m'\u001b[39m\u001b[38;5;124mcancer_type\u001b[39m\u001b[38;5;124m'\u001b[39m],\n\u001b[0;32m      6\u001b[0m                                            axis    \u001b[38;5;241m=\u001b[39m \u001b[38;5;241m1\u001b[39m,\n\u001b[0;32m      7\u001b[0m                                            inplace \u001b[38;5;241m=\u001b[39m \u001b[38;5;28;01mFalse\u001b[39;00m)\n\u001b[0;32m      8\u001b[0m df \u001b[38;5;241m=\u001b[39m read_csv(join(path,\u001b[38;5;124mf\u001b[39m\u001b[38;5;124m'\u001b[39m\u001b[38;5;132;01m{\u001b[39;00mfile_name\u001b[38;5;132;01m}\u001b[39;00m\u001b[38;5;124m.\u001b[39m\u001b[38;5;132;01m{\u001b[39;00mext\u001b[38;5;132;01m}\u001b[39;00m\u001b[38;5;124m'\u001b[39m))\n\u001b[1;32m----> 9\u001b[0m \u001b[38;5;28;01mreturn\u001b[39;00m (\u001b[43mextract\u001b[49m\u001b[43m(\u001b[49m\u001b[43mdf\u001b[49m\u001b[43m,\u001b[49m\u001b[43mcancer_type\u001b[49m\u001b[38;5;241;43m=\u001b[39;49m\u001b[38;5;241;43m0\u001b[39;49m\u001b[43m)\u001b[49m,\n\u001b[0;32m     10\u001b[0m         extract(df,cancer_type\u001b[38;5;241m=\u001b[39m\u001b[38;5;241m1\u001b[39m))\n",
      "Input \u001b[1;32mIn [6]\u001b[0m, in \u001b[0;36mread_and_split.<locals>.extract\u001b[1;34m(df, cancer_type)\u001b[0m\n\u001b[0;32m      4\u001b[0m \u001b[38;5;28;01mdef\u001b[39;00m \u001b[38;5;21mextract\u001b[39m(df,cancer_type\u001b[38;5;241m=\u001b[39m\u001b[38;5;241m0\u001b[39m):\n\u001b[1;32m----> 5\u001b[0m     \u001b[38;5;28;01mreturn\u001b[39;00m df\u001b[38;5;241m.\u001b[39mloc[\u001b[43mdf\u001b[49m\u001b[38;5;241;43m.\u001b[39;49m\u001b[43mcancer_type\u001b[49m\u001b[38;5;241m==\u001b[39mcancer_type,]\u001b[38;5;241m.\u001b[39mdrop([\u001b[38;5;124m'\u001b[39m\u001b[38;5;124mcancer_type\u001b[39m\u001b[38;5;124m'\u001b[39m],\n\u001b[0;32m      6\u001b[0m                                            axis    \u001b[38;5;241m=\u001b[39m \u001b[38;5;241m1\u001b[39m,\n\u001b[0;32m      7\u001b[0m                                            inplace \u001b[38;5;241m=\u001b[39m \u001b[38;5;28;01mFalse\u001b[39;00m)\n",
      "File \u001b[1;32m~\\AppData\\Local\\Programs\\Python\\Python39\\lib\\site-packages\\pandas\\core\\generic.py:5487\u001b[0m, in \u001b[0;36mNDFrame.__getattr__\u001b[1;34m(self, name)\u001b[0m\n\u001b[0;32m   5480\u001b[0m \u001b[38;5;28;01mif\u001b[39;00m (\n\u001b[0;32m   5481\u001b[0m     name \u001b[38;5;129;01mnot\u001b[39;00m \u001b[38;5;129;01min\u001b[39;00m \u001b[38;5;28mself\u001b[39m\u001b[38;5;241m.\u001b[39m_internal_names_set\n\u001b[0;32m   5482\u001b[0m     \u001b[38;5;129;01mand\u001b[39;00m name \u001b[38;5;129;01mnot\u001b[39;00m \u001b[38;5;129;01min\u001b[39;00m \u001b[38;5;28mself\u001b[39m\u001b[38;5;241m.\u001b[39m_metadata\n\u001b[0;32m   5483\u001b[0m     \u001b[38;5;129;01mand\u001b[39;00m name \u001b[38;5;129;01mnot\u001b[39;00m \u001b[38;5;129;01min\u001b[39;00m \u001b[38;5;28mself\u001b[39m\u001b[38;5;241m.\u001b[39m_accessors\n\u001b[0;32m   5484\u001b[0m     \u001b[38;5;129;01mand\u001b[39;00m \u001b[38;5;28mself\u001b[39m\u001b[38;5;241m.\u001b[39m_info_axis\u001b[38;5;241m.\u001b[39m_can_hold_identifiers_and_holds_name(name)\n\u001b[0;32m   5485\u001b[0m ):\n\u001b[0;32m   5486\u001b[0m     \u001b[38;5;28;01mreturn\u001b[39;00m \u001b[38;5;28mself\u001b[39m[name]\n\u001b[1;32m-> 5487\u001b[0m \u001b[38;5;28;01mreturn\u001b[39;00m \u001b[38;5;28;43mobject\u001b[39;49m\u001b[38;5;241;43m.\u001b[39;49m\u001b[38;5;21;43m__getattribute__\u001b[39;49m\u001b[43m(\u001b[49m\u001b[38;5;28;43mself\u001b[39;49m\u001b[43m,\u001b[49m\u001b[43m \u001b[49m\u001b[43mname\u001b[49m\u001b[43m)\u001b[49m\n",
      "\u001b[1;31mAttributeError\u001b[0m: 'DataFrame' object has no attribute 'cancer_type'"
     ]
    }
   ],
   "source": [
    "if __name__=='__main__':\n",
    "    other_cancer,cholangiocarcinoma = read_and_split()\n",
    "    counts_other                    = other_cancer.sum(axis=0)\n",
    "    sorted_on_counts                = counts_other.sort_values(ascending=False)\n",
    "    counts_cholangiocarcinoma       = cholangiocarcinoma.sum(axis=0)\n",
    "    keys = sorted_on_counts.keys()\n",
    "\n",
    "    fig             = figure(figsize=(20,20))\n",
    "    axs             = fig.subplots(2)\n",
    "    decorate_plot(ax    = axs[0],\n",
    "                  title = f'Intrahepatic (1) {other_cancer.shape[0]} samples')\n",
    "    heatmap(other_cancer[keys.tolist()],\n",
    "            ax   = axs[0],\n",
    "            vmin = 0,\n",
    "            vmax = 1)\n",
    "    decorate_plot(ax    = axs[1],\n",
    "                  title = f'Extrahepatic (0) {cholangiocarcinoma.shape[0]} samples')\n",
    "    heatmap(cholangiocarcinoma[keys.tolist()],\n",
    "            ax   = axs[1],\n",
    "            vmin = 0,\n",
    "            vmax = 1)\n",
    "    savefig('G:\\My Drive\\Machine Learning\\Cholangiocarcinoma_ML\\Images\\cc_cancerEDA_post_LASSO.png')\n",
    "    show()"
   ]
  },
  {
   "cell_type": "code",
   "execution_count": null,
   "id": "3ae7d4f3-b923-4adc-8203-fc1b7cab5117",
   "metadata": {},
   "outputs": [],
   "source": []
  }
 ],
 "metadata": {
  "jupytext": {
   "cell_metadata_filter": "-all",
   "main_language": "python",
   "notebook_metadata_filter": "-all"
  },
  "kernelspec": {
   "display_name": "Python 3 (ipykernel)",
   "language": "python",
   "name": "python3"
  },
  "language_info": {
   "codemirror_mode": {
    "name": "ipython",
    "version": 3
   },
   "file_extension": ".py",
   "mimetype": "text/x-python",
   "name": "python",
   "nbconvert_exporter": "python",
   "pygments_lexer": "ipython3",
   "version": "3.9.9"
  }
 },
 "nbformat": 4,
 "nbformat_minor": 5
}
