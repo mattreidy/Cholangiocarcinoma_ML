{
 "cells": [
  {
   "cell_type": "markdown",
   "id": "036b8051",
   "metadata": {},
   "source": [
    "Copyright (C) 2022 Greenweaves Software Limited"
   ]
  },
  {
   "cell_type": "markdown",
   "id": "3b6ee9d4",
   "metadata": {},
   "source": [
    "This is free software: you can redistribute it and/or modify\n",
    "it under the terms of the GNU General Public License as published by\n",
    "the Free Software Foundation, either version 3 of the License, or\n",
    "(at your option) any later version."
   ]
  },
  {
   "cell_type": "markdown",
   "id": "356e63ba",
   "metadata": {},
   "source": [
    "This software is distributed in the hope that it will be useful,\n",
    "but WITHOUT ANY WARRANTY; without even the implied warranty of\n",
    "MERCHANTABILITY or FITNESS FOR A PARTICULAR PURPOSE.  See the\n",
    "GNU General Public License for more details."
   ]
  },
  {
   "cell_type": "markdown",
   "id": "cc892480",
   "metadata": {},
   "source": [
    "You should have received a copy of the GNU General Public License\n",
    "along with GNU Emacs.  If not, see <http://www.gnu.org/licenses/>"
   ]
  },
  {
   "cell_type": "code",
   "execution_count": null,
   "id": "4d5a7fd6",
   "metadata": {
    "lines_to_next_cell": 1
   },
   "outputs": [],
   "source": [
    "from os.path           import join\n",
    "from matplotlib.pyplot import figure, savefig, show, title\n",
    "from pandas            import read_csv\n",
    "from seaborn           import heatmap"
   ]
  },
  {
   "cell_type": "code",
   "execution_count": null,
   "id": "ef2ed944",
   "metadata": {
    "lines_to_next_cell": 1
   },
   "outputs": [],
   "source": [
    "def read_and_split(path      = r'..\\Data_Files',\n",
    "                   file_name = 'cancer_mutations',\n",
    "                   ext       = 'txt'):\n",
    "    '''\n",
    "    Read cancer mutations dataset, and split into cholangiocarcinoma and other\n",
    "    '''\n",
    "    def extract(cancer_type=0):\n",
    "        return df.loc[df.cancer_type==cancer_type,].drop(['cancer_type'],\n",
    "                                               axis    = 1,\n",
    "                                               inplace = False)\n",
    "\n",
    "    df = read_csv(join(path,f'{file_name}.{ext}'), sep='\\t')\n",
    "    return (extract(cancer_type=0),\n",
    "            extract(cancer_type=1))"
   ]
  },
  {
   "cell_type": "code",
   "execution_count": null,
   "id": "619a7da4",
   "metadata": {},
   "outputs": [],
   "source": [
    "def plot_samples_and_mutations(df,\n",
    "                               ax    = None,\n",
    "                               title = 'Cancer'):\n",
    "    '''\n",
    "    Plot mutations (horizontal) for samples (vertical)\n",
    "    '''\n",
    "    ax.set_title(title)\n",
    "    ax.tick_params(which       = 'both',\n",
    "                   bottom      = False,\n",
    "                   top         = False,\n",
    "                   labelleft   = False,\n",
    "                   labelbottom = False )\n",
    "    heatmap(df,\n",
    "            ax   = ax,\n",
    "            vmin = 0,\n",
    "            vmax = 1,\n",
    "            cbar = False)\n",
    "    ax.set_xlabel('Mutations')\n",
    "    ax.set_ylabel('Samples')"
   ]
  },
  {
   "cell_type": "code",
   "execution_count": null,
   "id": "9678049f",
   "metadata": {},
   "outputs": [],
   "source": [
    "if __name__=='__main__':\n",
    "    other_cancer,cholangiocarcinoma              = read_and_split()\n",
    "    mutation_counts_other_cancer                 = other_cancer.sum(axis=0)\n",
    "    mutation_counts_other_cancer_descending      = mutation_counts_other_cancer.sort_values(ascending=False)\n",
    "    mutation_counts_cholangiocarcinoma           = cholangiocarcinoma.sum(axis=0)\n",
    "    mutation_codes_sorted_by_counts_other_cancer = mutation_counts_other_cancer_descending.keys().tolist()\n",
    "\n",
    "    fig                                          = figure(figsize=(20,20))\n",
    "    axs                                          = fig.subplots(2)\n",
    "    plot_samples_and_mutations(other_cancer[mutation_codes_sorted_by_counts_other_cancer],\n",
    "                               ax    = axs[0],\n",
    "                               title = f'Other Cancer {other_cancer.shape[0]} samples')\n",
    "    plot_samples_and_mutations(cholangiocarcinoma[mutation_codes_sorted_by_counts_other_cancer],\n",
    "                               ax    = axs[1],\n",
    "                               title = f'Cholangiocarcinoma {cholangiocarcinoma.shape[0]} samples'         )\n",
    "\n",
    "    fig.subplots_adjust(left   = 0.05,\n",
    "                        right  = 0.95,\n",
    "                        top    = 0.95,\n",
    "                        bottom = 0.05)\n",
    "    savefig('cancerEDA.png')\n",
    "    show()"
   ]
  }
 ],
 "metadata": {
  "jupytext": {
   "cell_metadata_filter": "-all",
   "formats": "ipynb,py",
   "main_language": "python"
  }
 },
 "nbformat": 4,
 "nbformat_minor": 5
}
