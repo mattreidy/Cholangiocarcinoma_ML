{
 "cells": [
  {
   "cell_type": "code",
   "execution_count": 1,
   "id": "62f84244-6fe8-49a6-8efe-c9bf5a66d5ad",
   "metadata": {},
   "outputs": [],
   "source": [
    "# Reference: https://www.machinecurve.com/index.php/2020/05/03/creating-a-simple-binary-svm-classifier-with-python-and-scikit-learn/\n",
    "from sklearn.datasets import make_blobs\n",
    "from sklearn.model_selection import train_test_split\n",
    "import numpy as np\n",
    "import matplotlib.pyplot as plt\n",
    "import pandas as pd\n",
    "from sklearn.preprocessing import LabelEncoder"
   ]
  },
  {
   "cell_type": "code",
   "execution_count": 3,
   "id": "e6242b2c-479a-4c9b-99fc-2ebc484305cd",
   "metadata": {},
   "outputs": [
    {
     "name": "stdout",
     "output_type": "stream",
     "text": [
      "     0   1   2   3   4   5   6   7   8   9   ...  37  38  39  40  41  42  43  \\\n",
      "0     1   0   0   0   0   0   0   0   0   0  ...   1   0   0   0   0   0   0   \n",
      "1     0   0   0   0   0   0   0   0   0   0  ...   0   0   0   0   0   0   0   \n",
      "2     1   0   0   0   0   0   0   0   0   0  ...   0   0   0   0   0   0   0   \n",
      "3     1   0   0   0   0   0   0   0   0   0  ...   0   0   0   0   0   0   0   \n",
      "4     0   0   0   0   0   0   0   0   0   0  ...   0   0   0   0   0   0   0   \n",
      "..   ..  ..  ..  ..  ..  ..  ..  ..  ..  ..  ...  ..  ..  ..  ..  ..  ..  ..   \n",
      "374   0   0   1   0   0   0   0   0   0   0  ...   0   0   0   0   0   0   0   \n",
      "375   0   0   0   0   0   0   0   0   0   0  ...   0   0   0   0   0   0   0   \n",
      "376   1   0   0   0   0   0   0   0   0   0  ...   0   0   0   0   0   0   0   \n",
      "377   0   0   0   0   0   0   0   0   0   0  ...   0   0   0   0   0   0   0   \n",
      "378   0   0   0   0   0   0   0   0   0   0  ...   0   0   0   0   0   0   0   \n",
      "\n",
      "     44  45  46  \n",
      "0     0   1   0  \n",
      "1     0   1   0  \n",
      "2     0   0   0  \n",
      "3     0   1   0  \n",
      "4     0   1   0  \n",
      "..   ..  ..  ..  \n",
      "374   0   0   0  \n",
      "375   0   0   0  \n",
      "376   0   0   0  \n",
      "377   0   0   0  \n",
      "378   0   1   0  \n",
      "\n",
      "[379 rows x 47 columns]\n",
      "[[1 0 0 ... 0 1 0]\n",
      " [0 0 0 ... 0 1 0]\n",
      " [1 0 0 ... 0 0 0]\n",
      " ...\n",
      " [1 0 0 ... 0 0 0]\n",
      " [0 0 0 ... 0 0 0]\n",
      " [0 0 0 ... 0 1 0]]\n"
     ]
    }
   ],
   "source": [
    "# load dataset\n",
    "dataframe = pd.read_csv(\"G:\\my drive\\machine learning\\Cholangiocarcinoma_ML\\Data_Files\\cc_cancer_mutations_post_LASSO_noheader.csv\", header=None)\n",
    "dataset = dataframe.values\n",
    "# split into input (X) and output (Y) variables\n",
    "input = dataset[:,0:46].astype(float)\n",
    "targets = dataset[:,46]\n",
    "# encode class values as integers\n",
    "encoder = LabelEncoder()\n",
    "encoder.fit(targets)\n",
    "encoded_targets = encoder.transform(targets)"
   ]
  },
  {
   "cell_type": "code",
   "execution_count": 4,
   "id": "30bd0520-b748-490b-a5cd-d440b4affdcf",
   "metadata": {},
   "outputs": [],
   "source": [
    "X_train, X_test, y_train, y_test = train_test_split(input, encoded_targets, test_size=0.33, random_state=42)"
   ]
  },
  {
   "cell_type": "code",
   "execution_count": 5,
   "id": "b62bb0a2-cf11-4c92-891e-682da9fa73f2",
   "metadata": {},
   "outputs": [
    {
     "data": {
      "image/png": "[encoded data removed]",
      "text/plain": [
       "<Figure size 432x288 with 1 Axes>"
      ]
     },
     "metadata": {
      "needs_background": "light"
     },
     "output_type": "display_data"
    }
   ],
   "source": [
    "# Generate scatter plot for training data \n",
    "plt.scatter(X_train[:,0], X_train[:,1])\n",
    "plt.title('data')\n",
    "plt.xlabel('X1')\n",
    "plt.ylabel('X2')\n",
    "plt.show()"
   ]
  },
  {
   "cell_type": "code",
   "execution_count": 6,
   "id": "f24f3d55-cb86-40ce-9104-3e8e822d4338",
   "metadata": {},
   "outputs": [],
   "source": [
    "from sklearn import svm\n",
    "# Initialize SVM classifier\n",
    "clf = svm.SVC(kernel='sigmoid')"
   ]
  },
  {
   "cell_type": "code",
   "execution_count": 7,
   "id": "3da989f6-dc13-4f0c-8db4-af4237ba8b98",
   "metadata": {},
   "outputs": [],
   "source": [
    "clf = clf.fit(X_train, y_train)"
   ]
  },
  {
   "cell_type": "code",
   "execution_count": 8,
   "id": "7f6a4f62-b6a8-4e76-946b-1f0234dfef53",
   "metadata": {},
   "outputs": [],
   "source": [
    "predictions = clf.predict(X_test)\n"
   ]
  },
  {
   "cell_type": "code",
   "execution_count": 9,
   "id": "9098ff62-29ec-4219-99c5-f7e4072bb189",
   "metadata": {},
   "outputs": [
    {
     "name": "stderr",
     "output_type": "stream",
     "text": [
      "C:\\Users\\MattReidy\\AppData\\Local\\Programs\\Python\\Python39\\lib\\site-packages\\sklearn\\utils\\deprecation.py:87: FutureWarning: Function plot_confusion_matrix is deprecated; Function `plot_confusion_matrix` is deprecated in 1.0 and will be removed in 1.2. Use one of the class methods: ConfusionMatrixDisplay.from_predictions or ConfusionMatrixDisplay.from_estimator.\n",
      "  warnings.warn(msg, category=FutureWarning)\n"
     ]
    },
    {
     "data": {
      "image/png": "[encoded data removed]",
      "text/plain": [
       "<Figure size 432x288 with 2 Axes>"
      ]
     },
     "metadata": {
      "needs_background": "light"
     },
     "output_type": "display_data"
    }
   ],
   "source": [
    "from sklearn.metrics import plot_confusion_matrix\n",
    "# Predict the test set\n",
    "predictions = clf.predict(X_test)\n",
    "\n",
    "# Generate confusion matrix\n",
    "matrix = plot_confusion_matrix(clf, X_test, y_test,\n",
    "                                 cmap=plt.cm.Blues,\n",
    "                                 normalize='true')\n",
    "plt.title('Confusion matrix for our classifier')\n",
    "plt.show(matrix)\n",
    "plt.show()"
   ]
  },
  {
   "cell_type": "code",
   "execution_count": 10,
   "id": "809b6a5f-f158-4572-99f0-7ae72063171c",
   "metadata": {},
   "outputs": [
    {
     "data": {
      "image/png": "[encoded data removed]",
      "text/plain": [
       "<Figure size 432x288 with 1 Axes>"
      ]
     },
     "metadata": {
      "needs_background": "light"
     },
     "output_type": "display_data"
    }
   ],
   "source": [
    "# Get support vectors\n",
    "support_vectors = clf.support_vectors_\n",
    "\n",
    "# Visualize support vectors\n",
    "plt.scatter(X_train[:,0], X_train[:,1])\n",
    "plt.scatter(support_vectors[:,0], support_vectors[:,1], color='red')\n",
    "plt.title('Linearly separable data with support vectors')\n",
    "plt.xlabel('X1')\n",
    "plt.ylabel('X2')\n",
    "plt.show()"
   ]
  },
  {
   "cell_type": "code",
   "execution_count": null,
   "id": "77192a3d-66a5-42a7-8f1f-3ac456ac0840",
   "metadata": {},
   "outputs": [],
   "source": []
  }
 ],
 "metadata": {
  "kernelspec": {
   "display_name": "Python 3 (ipykernel)",
   "language": "python",
   "name": "python3"
  },
  "language_info": {
   "codemirror_mode": {
    "name": "ipython",
    "version": 3
   },
   "file_extension": ".py",
   "mimetype": "text/x-python",
   "name": "python",
   "nbconvert_exporter": "python",
   "pygments_lexer": "ipython3",
   "version": "3.9.9"
  }
 },
 "nbformat": 4,
 "nbformat_minor": 5
}
