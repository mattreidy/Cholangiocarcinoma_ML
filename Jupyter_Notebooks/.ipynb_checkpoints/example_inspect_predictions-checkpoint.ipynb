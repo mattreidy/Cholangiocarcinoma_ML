{
 "cells": [
  {
   "cell_type": "code",
   "execution_count": 1,
   "metadata": {
    "collapsed": false,
    "jupyter": {
     "outputs_hidden": false
    }
   },
   "outputs": [],
   "source": [
    "%matplotlib inline"
   ]
  },
  {
   "cell_type": "markdown",
   "metadata": {},
   "source": [
    "\n",
    "# Model Explanation\n",
    "\n",
    "The following example shows how to fit a simple classification model with\n",
    "*auto-sklearn* and use the `inspect module <https://scikit-learn.org/stable/inspection.html>`_ from\n",
    "scikit-learn to understand what affects the predictions.\n"
   ]
  },
  {
   "cell_type": "code",
   "execution_count": 2,
   "metadata": {
    "collapsed": false,
    "jupyter": {
     "outputs_hidden": false
    }
   },
   "outputs": [],
   "source": [
    "import sklearn.datasets\n",
    "from sklearn.inspection import plot_partial_dependence, permutation_importance\n",
    "import matplotlib.pyplot as plt\n",
    "import autosklearn.classification"
   ]
  },
  {
   "cell_type": "markdown",
   "metadata": {},
   "source": [
    "## Load Data and Build a Model\n",
    "\n",
    "We start by loading the \"Run or walk\" dataset from OpenML and train an auto-sklearn model on it.\n",
    "For this dataset, the goal is to predict whether a person is running or walking based on\n",
    "accelerometer and gyroscope data collected by a phone. For more information see\n",
    "`here <https://www.openml.org/d/40922>`_.\n",
    "\n"
   ]
  },
  {
   "cell_type": "code",
   "execution_count": null,
   "metadata": {
    "collapsed": false,
    "jupyter": {
     "outputs_hidden": false
    }
   },
   "outputs": [
    {
     "name": "stdout",
     "output_type": "stream",
     "text": [
      "[WARNING] [2022-01-27 21:30:35,359:Client-AutoMLSMBO(1)::Run_or_walk_information] Dataset run_or_walk_information already in meta-data. Removing occurence.\n"
     ]
    },
    {
     "name": "stderr",
     "output_type": "stream",
     "text": [
      "/usr/local/lib/python3.9/dist-packages/autosklearn/metalearning/metalearning/meta_base.py:68: FutureWarning: The frame.append method is deprecated and will be removed from pandas in a future version. Use pandas.concat instead.\n",
      "  self.metafeatures = self.metafeatures.append(metafeatures)\n",
      "/usr/local/lib/python3.9/dist-packages/autosklearn/metalearning/metalearning/meta_base.py:72: FutureWarning: The frame.append method is deprecated and will be removed from pandas in a future version. Use pandas.concat instead.\n",
      "  self.algorithm_runs[metric].append(runs)\n"
     ]
    }
   ],
   "source": [
    "dataset = sklearn.datasets.fetch_openml(data_id=40922)\n",
    "\n",
    "# Note: To speed up the example, we subsample the dataset\n",
    "dataset.data = dataset.data.sample(n=5000, random_state=1, axis=\"index\")\n",
    "dataset.target = dataset.target[dataset.data.index]\n",
    "\n",
    "X_train, X_test, y_train, y_test = sklearn.model_selection.train_test_split(\n",
    "    dataset.data, dataset.target, test_size=0.3, random_state=1\n",
    ")\n",
    "\n",
    "automl = autosklearn.classification.AutoSklearnClassifier(\n",
    "    time_left_for_this_task=120,\n",
    "    per_run_time_limit=30,\n",
    "    memory_limit=None,\n",
    "    n_jobs=-1,\n",
    "    tmp_folder='',\n",
    ")\n",
    "automl.fit(X_train, y_train, dataset_name='Run_or_walk_information')\n",
    "\n",
    "s = automl.score(X_train, y_train)\n",
    "print(f\"Train score {s}\")\n",
    "s = automl.score(X_test, y_test)\n",
    "print(f\"Test score {s}\")"
   ]
  },
  {
   "cell_type": "markdown",
   "metadata": {},
   "source": [
    "## Compute permutation importance - part 1\n",
    "\n",
    "Since auto-sklearn implements the scikit-learn interface, it can be used with the scikit-learn's\n",
    "inspection module. So, now we first look at the `permutation importance\n",
    "<https://christophm.github.io/interpretable-ml-book/feature-importance.html>`_, which defines the\n",
    "decrease in a model score when a given feature is randomly permuted. So, the higher the score,\n",
    "the more does the model's predictions depend on this feature.\n",
    "\n",
    "**Note:** There are some pitfalls in interpreting these numbers, which can be found\n",
    "in the `scikit-learn docs <https://scikit-learn.org/stable/modules/permutation_importance.html>`_.\n",
    "\n"
   ]
  },
  {
   "cell_type": "code",
   "execution_count": null,
   "metadata": {
    "collapsed": false,
    "jupyter": {
     "outputs_hidden": false
    }
   },
   "outputs": [],
   "source": [
    "r = permutation_importance(automl, X_test, y_test, n_repeats=10, random_state=0)\n",
    "sort_idx = r.importances_mean.argsort()[::-1]\n",
    "\n",
    "plt.boxplot(r.importances[sort_idx].T,\n",
    "            labels=[dataset.feature_names[i] for i in sort_idx])\n",
    "\n",
    "plt.xticks(rotation=90)\n",
    "plt.tight_layout()\n",
    "plt.show()\n",
    "\n",
    "for i in sort_idx[::-1]:\n",
    "    print(f\"{dataset.feature_names[i]:10s}: {r.importances_mean[i]:.3f} +/- \"\n",
    "          f\"{r.importances_std[i]:.3f}\")"
   ]
  },
  {
   "cell_type": "markdown",
   "metadata": {},
   "source": [
    "## Create partial dependence (PD) and individual conditional expectation (ICE) plots - part 2\n",
    "\n",
    "`ICE plots <https://christophm.github.io/interpretable-ml-book/ice.html>`_ describe the relation\n",
    "between feature values and the response value for each sample\n",
    "individually -- it shows how the response value changes if the value of one feature is changed.\n",
    "\n",
    "`PD plots <https://christophm.github.io/interpretable-ml-book/pdp.html>`_ describe the relation\n",
    "between feature values and the response value, i.e. the expected\n",
    "response value wrt. one or multiple input features. Since we use a classification dataset, this\n",
    "corresponds to the predicted class probability.\n",
    "\n",
    "Since ``acceleration_y`` and ``acceleration_z`` turned out to have the largest impact on the response\n",
    "value according to the permutation dependence, we'll first look at them and generate a plot\n",
    "combining ICE (thin lines) and PD (thick line)\n",
    "\n"
   ]
  },
  {
   "cell_type": "code",
   "execution_count": null,
   "metadata": {
    "collapsed": false,
    "jupyter": {
     "outputs_hidden": false
    }
   },
   "outputs": [],
   "source": [
    "features = [1, 2]\n",
    "plot_partial_dependence(automl, dataset.data,\n",
    "                        features=features,\n",
    "                        grid_resolution=5,\n",
    "                        kind=\"both\",\n",
    "                        feature_names=dataset.feature_names)\n",
    "plt.tight_layout()\n",
    "plt.show()"
   ]
  },
  {
   "cell_type": "markdown",
   "metadata": {},
   "source": [
    "## Create partial dependence (PDP) plots for more than one feature - part 3\n",
    "\n",
    "A PD plot can also be generated for two features and thus allow to inspect the interaction between\n",
    "these features. Again, we'll look at acceleration_y and acceleration_z.\n",
    "\n"
   ]
  },
  {
   "cell_type": "code",
   "execution_count": null,
   "metadata": {
    "collapsed": false,
    "jupyter": {
     "outputs_hidden": false
    }
   },
   "outputs": [],
   "source": [
    "features = [[1, 2]]\n",
    "plot_partial_dependence(automl, dataset.data,\n",
    "                        features=features,\n",
    "                        grid_resolution=5,\n",
    "                        feature_names=dataset.feature_names)\n",
    "plt.tight_layout()\n",
    "plt.show()"
   ]
  },
  {
   "cell_type": "code",
   "execution_count": null,
   "metadata": {},
   "outputs": [],
   "source": []
  }
 ],
 "metadata": {
  "kernelspec": {
   "display_name": "Python 3 (ipykernel)",
   "language": "python",
   "name": "python3"
  },
  "language_info": {
   "codemirror_mode": {
    "name": "ipython",
    "version": 3
   },
   "file_extension": ".py",
   "mimetype": "text/x-python",
   "name": "python",
   "nbconvert_exporter": "python",
   "pygments_lexer": "ipython3",
   "version": "3.9.7"
  }
 },
 "nbformat": 4,
 "nbformat_minor": 4
}
