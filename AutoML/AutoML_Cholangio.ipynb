{
 "cells": [
  {
   "cell_type": "code",
   "execution_count": 1,
   "id": "50161095-c525-4d0c-960d-71d99a1bfd87",
   "metadata": {},
   "outputs": [],
   "source": [
    "# imports\n",
    "import warnings\n",
    "warnings.filterwarnings(\"ignore\")\n",
    "import pandas as pd\n",
    "import numpy as np\n",
    "import matplotlib.pyplot as plt\n",
    "import seaborn as sns\n",
    "import pickle\n",
    "from sklearn.model_selection import train_test_split\n",
    "from autosklearn.classification import AutoSklearnClassifier\n",
    "from sklearn.metrics import accuracy_score"
   ]
  },
  {
   "cell_type": "code",
   "execution_count": 2,
   "id": "24070e40-6631-41ef-9186-779f12422ffb",
   "metadata": {},
   "outputs": [
    {
     "name": "stdout",
     "output_type": "stream",
     "text": [
      "Total samples:  29431\n",
      "Total genes:  332\n"
     ]
    },
    {
     "data": {
      "text/plain": [
       "<AxesSubplot:title={'center':'Count of Samples by Cancer Type-All Data'}, xlabel='cancer_type', ylabel='sample count'>"
      ]
     },
     "execution_count": 2,
     "metadata": {},
     "output_type": "execute_result"
    },
    {
     "data": {
      "image/png": "[encoded data removed]",
      "text/plain": [
       "<Figure size 432x288 with 1 Axes>"
      ]
     },
     "metadata": {
      "needs_background": "light"
     },
     "output_type": "display_data"
    }
   ],
   "source": [
    "# data source\n",
    "#url='https://raw.githubusercontent.com/mattreidy/Cholangiocarcinoma_ML/main/Data_Files/cc_cancer_mutations_post_LASSO.csv'\n",
    "url='https://raw.githubusercontent.com/mattreidy/Cholangiocarcinoma_ML//main/Data_Files/cancer_mutations_post_LASSO.csv'\n",
    "df = pd.read_csv(url)\n",
    "# Randomly shuffle the rows to make sure the data is not sorted\n",
    "df = df.sample(frac=1)\n",
    "print(\"Total samples: \", df.shape[0])\n",
    "print(\"Total genes: \", df.shape[1])\n",
    "#print(df.head(5))\n",
    "plt.title(\"Count of Samples by Cancer Type-All Data\")\n",
    "plt.xlabel(\"cancer_type\")\n",
    "plt.ylabel(\"sample count\")\n",
    "df['cancer_type'].value_counts().plot(kind='bar')"
   ]
  },
  {
   "cell_type": "code",
   "execution_count": 3,
   "id": "6af45edb-976b-4379-8b58-aaeca2e1cd86",
   "metadata": {},
   "outputs": [
    {
     "name": "stdout",
     "output_type": "stream",
     "text": [
      "Training samples:  23544\n",
      "Testing samples:  2943\n",
      "Validation samples:  2944\n"
     ]
    }
   ],
   "source": [
    "# split the data into 80% training and 15% test & 15% alidation sets\n",
    "train_dataset, temp_test_dataset =  train_test_split(df, test_size=0.20, random_state=1)\n",
    "test_dataset, valid_dataset =  train_test_split(temp_test_dataset, test_size=0.50, random_state=1)\n",
    "print(\"Training samples: \", train_dataset.shape[0])\n",
    "print(\"Testing samples: \", test_dataset.shape[0])\n",
    "print(\"Validation samples: \", valid_dataset.shape[0])"
   ]
  },
  {
   "cell_type": "code",
   "execution_count": 4,
   "id": "b52d8ba0-b294-44fe-b678-efd219935303",
   "metadata": {},
   "outputs": [],
   "source": [
    "train_labels1 = train_dataset.pop('cancer_type')\n",
    "test_labels1 = test_dataset.pop('cancer_type')\n",
    "valid_labels1 = valid_dataset.pop('cancer_type')\n",
    "# encode the labeles\n",
    "train_labels = pd.get_dummies(train_labels1, prefix='Label')\n",
    "valid_labels = pd.get_dummies(valid_labels1, prefix='Label')\n",
    "test_labels = pd.get_dummies(test_labels1, prefix='Label')"
   ]
  },
  {
   "cell_type": "code",
   "execution_count": 5,
   "id": "e0aad314-eaa3-4b34-90b5-c74ca4b564f6",
   "metadata": {},
   "outputs": [],
   "source": [
    "model = AutoSklearnClassifier(\n",
    "    time_left_for_this_task=60*30,        # total seconds to run\n",
    "    per_run_time_limit=600,               # max runtime seconds per process\n",
    "    seed=5,                              # make repeatable\n",
    "#    ensemble_size=1,\n",
    "    memory_limit=None,\n",
    "    initial_configurations_via_metalearning=0,\n",
    "    n_jobs=-1,                           # use all cores\n",
    ")"
   ]
  },
  {
   "cell_type": "code",
   "execution_count": null,
   "id": "b003e569-e3ef-4e71-9921-04eeabce1109",
   "metadata": {},
   "outputs": [],
   "source": [
    "%%time\n",
    "model.fit(train_dataset, train_labels)"
   ]
  },
  {
   "cell_type": "code",
   "execution_count": null,
   "id": "3e38c812-d738-4d05-8587-34e354cd491f",
   "metadata": {},
   "outputs": [],
   "source": [
    "print(model.sprint_statistics())"
   ]
  },
  {
   "cell_type": "code",
   "execution_count": null,
   "id": "3d973211-d6a5-40e4-825b-94ad201ea992",
   "metadata": {},
   "outputs": [],
   "source": [
    "model.leaderboard()"
   ]
  },
  {
   "cell_type": "code",
   "execution_count": null,
   "id": "3be1061b-43a7-4644-8328-7a42ec5817d9",
   "metadata": {},
   "outputs": [],
   "source": [
    "test_pred = model.predict(test_dataset)\n",
    "acc = accuracy_score(test_labels, test_pred)\n",
    "print(f\"Accuracy: {acc}\")"
   ]
  },
  {
   "cell_type": "code",
   "execution_count": null,
   "id": "5dc9c824-1587-4224-9c2a-68fb33fd546d",
   "metadata": {},
   "outputs": [],
   "source": [
    "valid_pred = model.predict(valid_dataset)\n",
    "acc = accuracy_score(valid_labels, valid_pred)\n",
    "print(f\"Accuracy: {acc}\")"
   ]
  },
  {
   "cell_type": "code",
   "execution_count": null,
   "id": "0bf41b94-4479-41b8-aeda-aa40f038d1f6",
   "metadata": {},
   "outputs": [],
   "source": [
    "losses_and_configurations = [\n",
    "    (run_value.cost, run_key.config_id)\n",
    "    for run_key, run_value in model.automl_.runhistory_.data.items()\n",
    "]\n",
    "losses_and_configurations.sort()\n",
    "print(\"Lowest loss:\", losses_and_configurations[0][0])\n",
    "print(\n",
    "    \"Best configuration:\",\n",
    "    model.automl_.runhistory_.ids_config[losses_and_configurations[0][1]]\n",
    ")"
   ]
  },
  {
   "cell_type": "code",
   "execution_count": null,
   "id": "d60085f5-e315-4fee-814f-1ad216e632db",
   "metadata": {},
   "outputs": [],
   "source": [
    "# Save the best model as a file\n",
    "results = model # the classifier/regressor itself\n",
    "pickle.dump(results, open('cc_vs_others_classifier.pkl','wb'))"
   ]
  },
  {
   "cell_type": "code",
   "execution_count": null,
   "id": "b6e1fee9-0108-4ee8-8b40-23583cb798e6",
   "metadata": {},
   "outputs": [],
   "source": []
  },
  {
   "cell_type": "code",
   "execution_count": null,
   "id": "2ec8cbe9-55f5-4256-add4-da4a2dc53e2d",
   "metadata": {},
   "outputs": [],
   "source": []
  }
 ],
 "metadata": {
  "kernelspec": {
   "display_name": "Python 3 (ipykernel)",
   "language": "python",
   "name": "python3"
  },
  "language_info": {
   "codemirror_mode": {
    "name": "ipython",
    "version": 3
   },
   "file_extension": ".py",
   "mimetype": "text/x-python",
   "name": "python",
   "nbconvert_exporter": "python",
   "pygments_lexer": "ipython3",
   "version": "3.9.7"
  }
 },
 "nbformat": 4,
 "nbformat_minor": 5
}
