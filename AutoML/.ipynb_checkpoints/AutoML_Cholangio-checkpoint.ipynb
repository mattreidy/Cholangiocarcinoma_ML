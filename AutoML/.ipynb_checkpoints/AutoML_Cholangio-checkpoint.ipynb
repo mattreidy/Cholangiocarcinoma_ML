{
 "cells": [
  {
   "cell_type": "code",
   "execution_count": 3,
   "id": "50161095-c525-4d0c-960d-71d99a1bfd87",
   "metadata": {},
   "outputs": [],
   "source": [
    "# imports\n",
    "import warnings\n",
    "warnings.filterwarnings(\"ignore\")\n",
    "import pandas as pd\n",
    "import numpy as np\n",
    "import matplotlib.pyplot as plt\n",
    "import seaborn as sns\n",
    "import pickle\n",
    "from sklearn.model_selection import train_test_split\n",
    "from autosklearn.classification import AutoSklearnClassifier\n",
    "from sklearn.metrics import accuracy_score"
   ]
  },
  {
   "cell_type": "code",
   "execution_count": 4,
   "id": "24070e40-6631-41ef-9186-779f12422ffb",
   "metadata": {},
   "outputs": [
    {
     "name": "stdout",
     "output_type": "stream",
     "text": [
      "Total samples:  379\n",
      "Total genes:  47\n"
     ]
    },
    {
     "data": {
      "text/plain": [
       "<AxesSubplot:title={'center':'Count of Samples by Cancer Type-All Data'}, xlabel='cancer_type', ylabel='sample count'>"
      ]
     },
     "execution_count": 4,
     "metadata": {},
     "output_type": "execute_result"
    },
    {
     "data": {
      "image/png": "[encoded data removed]",
      "text/plain": [
       "<Figure size 432x288 with 1 Axes>"
      ]
     },
     "metadata": {
      "needs_background": "light"
     },
     "output_type": "display_data"
    }
   ],
   "source": [
    "# data source\n",
    "url='https://raw.githubusercontent.com/mattreidy/Cholangiocarcinoma_ML/main/Data_Files/cc_cancer_mutations_post_LASSO.csv'\n",
    "#url='https://raw.githubusercontent.com/mattreidy/Cholangiocarcinoma_ML//main/Data_Files/cancer_mutations_post_LASSO.csv'\n",
    "df = pd.read_csv(url)\n",
    "# Randomly shuffle the rows to make sure the data is not sorted\n",
    "df = df.sample(frac=1)\n",
    "print(\"Total samples: \", df.shape[0])\n",
    "print(\"Total genes: \", df.shape[1])\n",
    "#print(df.head(5))\n",
    "plt.title(\"Count of Samples by Cancer Type-All Data\")\n",
    "plt.xlabel(\"cancer_type\")\n",
    "plt.ylabel(\"sample count\")\n",
    "df['cancer_type'].value_counts().plot(kind='bar')"
   ]
  },
  {
   "cell_type": "code",
   "execution_count": 5,
   "id": "6af45edb-976b-4379-8b58-aaeca2e1cd86",
   "metadata": {},
   "outputs": [
    {
     "name": "stdout",
     "output_type": "stream",
     "text": [
      "Training samples:  303\n",
      "Testing samples:  38\n",
      "Validation samples:  38\n"
     ]
    }
   ],
   "source": [
    "# split the data into 80% training and 15% test & 15% alidation sets\n",
    "train_dataset, temp_test_dataset =  train_test_split(df, test_size=0.20, random_state=1)\n",
    "test_dataset, valid_dataset =  train_test_split(temp_test_dataset, test_size=0.50, random_state=1)\n",
    "print(\"Training samples: \", train_dataset.shape[0])\n",
    "print(\"Testing samples: \", test_dataset.shape[0])\n",
    "print(\"Validation samples: \", valid_dataset.shape[0])"
   ]
  },
  {
   "cell_type": "code",
   "execution_count": 6,
   "id": "b52d8ba0-b294-44fe-b678-efd219935303",
   "metadata": {},
   "outputs": [],
   "source": [
    "train_labels1 = train_dataset.pop('cancer_type')\n",
    "test_labels1 = test_dataset.pop('cancer_type')\n",
    "valid_labels1 = valid_dataset.pop('cancer_type')\n",
    "# encode the labeles\n",
    "train_labels = pd.get_dummies(train_labels1, prefix='Label')\n",
    "valid_labels = pd.get_dummies(valid_labels1, prefix='Label')\n",
    "test_labels = pd.get_dummies(test_labels1, prefix='Label')"
   ]
  },
  {
   "cell_type": "code",
   "execution_count": 7,
   "id": "e0aad314-eaa3-4b34-90b5-c74ca4b564f6",
   "metadata": {},
   "outputs": [],
   "source": [
    "model = AutoSklearnClassifier(\n",
    "    time_left_for_this_task=60*45,        # total seconds to run\n",
    "    per_run_time_limit=240,               # max runtime seconds per process\n",
    "    seed=5,                              # make repeatable\n",
    "#    ensemble_size=1,\n",
    "    memory_limit=None,\n",
    "    initial_configurations_via_metalearning=0,\n",
    "    n_jobs=-1,                           # use all cores\n",
    ")"
   ]
  },
  {
   "cell_type": "code",
   "execution_count": 8,
   "id": "b003e569-e3ef-4e71-9921-04eeabce1109",
   "metadata": {},
   "outputs": [
    {
     "name": "stdout",
     "output_type": "stream",
     "text": [
      "CPU times: user 48.4 s, sys: 9.4 s, total: 57.8 s\n",
      "Wall time: 1min 5s\n"
     ]
    },
    {
     "data": {
      "text/plain": [
       "AutoSklearnClassifier(initial_configurations_via_metalearning=0,\n",
       "                      memory_limit=None, n_jobs=-1, per_run_time_limit=20,\n",
       "                      seed=5, time_left_for_this_task=60)"
      ]
     },
     "execution_count": 8,
     "metadata": {},
     "output_type": "execute_result"
    }
   ],
   "source": [
    "%%time\n",
    "model.fit(train_dataset, train_labels)"
   ]
  },
  {
   "cell_type": "code",
   "execution_count": 9,
   "id": "3e38c812-d738-4d05-8587-34e354cd491f",
   "metadata": {},
   "outputs": [
    {
     "name": "stdout",
     "output_type": "stream",
     "text": [
      "auto-sklearn results:\n",
      "  Dataset name: db52ff2c-7fd7-11ec-9168-00155d97655d\n",
      "  Metric: f1_macro\n",
      "  Best validation score: 0.795060\n",
      "  Number of target algorithm runs: 39\n",
      "  Number of successful target algorithm runs: 35\n",
      "  Number of crashed target algorithm runs: 4\n",
      "  Number of target algorithms that exceeded the time limit: 0\n",
      "  Number of target algorithms that exceeded the memory limit: 0\n",
      "\n"
     ]
    }
   ],
   "source": [
    "print(model.sprint_statistics())"
   ]
  },
  {
   "cell_type": "code",
   "execution_count": 10,
   "id": "3d973211-d6a5-40e4-825b-94ad201ea992",
   "metadata": {},
   "outputs": [
    {
     "data": {
      "text/html": [
       "<div>\n",
       "<style scoped>\n",
       "    .dataframe tbody tr th:only-of-type {\n",
       "        vertical-align: middle;\n",
       "    }\n",
       "\n",
       "    .dataframe tbody tr th {\n",
       "        vertical-align: top;\n",
       "    }\n",
       "\n",
       "    .dataframe thead th {\n",
       "        text-align: right;\n",
       "    }\n",
       "</style>\n",
       "<table border=\"1\" class=\"dataframe\">\n",
       "  <thead>\n",
       "    <tr style=\"text-align: right;\">\n",
       "      <th></th>\n",
       "      <th>rank</th>\n",
       "      <th>ensemble_weight</th>\n",
       "      <th>type</th>\n",
       "      <th>cost</th>\n",
       "      <th>duration</th>\n",
       "    </tr>\n",
       "    <tr>\n",
       "      <th>model_id</th>\n",
       "      <th></th>\n",
       "      <th></th>\n",
       "      <th></th>\n",
       "      <th></th>\n",
       "      <th></th>\n",
       "    </tr>\n",
       "  </thead>\n",
       "  <tbody>\n",
       "    <tr>\n",
       "      <th>16</th>\n",
       "      <td>1</td>\n",
       "      <td>0.10</td>\n",
       "      <td>qda</td>\n",
       "      <td>0.204940</td>\n",
       "      <td>0.734807</td>\n",
       "    </tr>\n",
       "    <tr>\n",
       "      <th>25</th>\n",
       "      <td>2</td>\n",
       "      <td>0.10</td>\n",
       "      <td>mlp</td>\n",
       "      <td>0.232785</td>\n",
       "      <td>0.754313</td>\n",
       "    </tr>\n",
       "    <tr>\n",
       "      <th>27</th>\n",
       "      <td>3</td>\n",
       "      <td>0.06</td>\n",
       "      <td>random_forest</td>\n",
       "      <td>0.251119</td>\n",
       "      <td>0.949345</td>\n",
       "    </tr>\n",
       "    <tr>\n",
       "      <th>11</th>\n",
       "      <td>4</td>\n",
       "      <td>0.08</td>\n",
       "      <td>bernoulli_nb</td>\n",
       "      <td>0.270833</td>\n",
       "      <td>0.673822</td>\n",
       "    </tr>\n",
       "    <tr>\n",
       "      <th>37</th>\n",
       "      <td>5</td>\n",
       "      <td>0.04</td>\n",
       "      <td>extra_trees</td>\n",
       "      <td>0.273224</td>\n",
       "      <td>0.955189</td>\n",
       "    </tr>\n",
       "    <tr>\n",
       "      <th>36</th>\n",
       "      <td>6</td>\n",
       "      <td>0.04</td>\n",
       "      <td>random_forest</td>\n",
       "      <td>0.273224</td>\n",
       "      <td>0.950459</td>\n",
       "    </tr>\n",
       "    <tr>\n",
       "      <th>21</th>\n",
       "      <td>7</td>\n",
       "      <td>0.02</td>\n",
       "      <td>qda</td>\n",
       "      <td>0.282174</td>\n",
       "      <td>0.456773</td>\n",
       "    </tr>\n",
       "    <tr>\n",
       "      <th>18</th>\n",
       "      <td>8</td>\n",
       "      <td>0.02</td>\n",
       "      <td>bernoulli_nb</td>\n",
       "      <td>0.291231</td>\n",
       "      <td>0.362605</td>\n",
       "    </tr>\n",
       "    <tr>\n",
       "      <th>6</th>\n",
       "      <td>9</td>\n",
       "      <td>0.02</td>\n",
       "      <td>bernoulli_nb</td>\n",
       "      <td>0.317136</td>\n",
       "      <td>0.833405</td>\n",
       "    </tr>\n",
       "    <tr>\n",
       "      <th>22</th>\n",
       "      <td>10</td>\n",
       "      <td>0.02</td>\n",
       "      <td>k_nearest_neighbors</td>\n",
       "      <td>0.337838</td>\n",
       "      <td>0.540298</td>\n",
       "    </tr>\n",
       "    <tr>\n",
       "      <th>30</th>\n",
       "      <td>11</td>\n",
       "      <td>0.02</td>\n",
       "      <td>mlp</td>\n",
       "      <td>0.355310</td>\n",
       "      <td>1.103390</td>\n",
       "    </tr>\n",
       "    <tr>\n",
       "      <th>39</th>\n",
       "      <td>12</td>\n",
       "      <td>0.10</td>\n",
       "      <td>qda</td>\n",
       "      <td>0.361301</td>\n",
       "      <td>0.484132</td>\n",
       "    </tr>\n",
       "    <tr>\n",
       "      <th>20</th>\n",
       "      <td>13</td>\n",
       "      <td>0.02</td>\n",
       "      <td>liblinear_svc</td>\n",
       "      <td>0.367024</td>\n",
       "      <td>0.497213</td>\n",
       "    </tr>\n",
       "    <tr>\n",
       "      <th>2</th>\n",
       "      <td>14</td>\n",
       "      <td>0.02</td>\n",
       "      <td>random_forest</td>\n",
       "      <td>0.399941</td>\n",
       "      <td>1.503620</td>\n",
       "    </tr>\n",
       "    <tr>\n",
       "      <th>28</th>\n",
       "      <td>15</td>\n",
       "      <td>0.06</td>\n",
       "      <td>extra_trees</td>\n",
       "      <td>0.414525</td>\n",
       "      <td>0.896825</td>\n",
       "    </tr>\n",
       "    <tr>\n",
       "      <th>7</th>\n",
       "      <td>16</td>\n",
       "      <td>0.02</td>\n",
       "      <td>qda</td>\n",
       "      <td>0.430005</td>\n",
       "      <td>0.835585</td>\n",
       "    </tr>\n",
       "    <tr>\n",
       "      <th>4</th>\n",
       "      <td>17</td>\n",
       "      <td>0.02</td>\n",
       "      <td>qda</td>\n",
       "      <td>0.430005</td>\n",
       "      <td>0.978179</td>\n",
       "    </tr>\n",
       "    <tr>\n",
       "      <th>15</th>\n",
       "      <td>18</td>\n",
       "      <td>0.04</td>\n",
       "      <td>mlp</td>\n",
       "      <td>0.430341</td>\n",
       "      <td>1.087817</td>\n",
       "    </tr>\n",
       "    <tr>\n",
       "      <th>24</th>\n",
       "      <td>19</td>\n",
       "      <td>0.02</td>\n",
       "      <td>decision_tree</td>\n",
       "      <td>0.440176</td>\n",
       "      <td>0.437678</td>\n",
       "    </tr>\n",
       "    <tr>\n",
       "      <th>35</th>\n",
       "      <td>20</td>\n",
       "      <td>0.04</td>\n",
       "      <td>decision_tree</td>\n",
       "      <td>0.480849</td>\n",
       "      <td>0.418651</td>\n",
       "    </tr>\n",
       "    <tr>\n",
       "      <th>32</th>\n",
       "      <td>21</td>\n",
       "      <td>0.02</td>\n",
       "      <td>gaussian_nb</td>\n",
       "      <td>0.516247</td>\n",
       "      <td>0.469242</td>\n",
       "    </tr>\n",
       "    <tr>\n",
       "      <th>29</th>\n",
       "      <td>22</td>\n",
       "      <td>0.02</td>\n",
       "      <td>k_nearest_neighbors</td>\n",
       "      <td>0.539185</td>\n",
       "      <td>0.514419</td>\n",
       "    </tr>\n",
       "    <tr>\n",
       "      <th>38</th>\n",
       "      <td>23</td>\n",
       "      <td>0.02</td>\n",
       "      <td>bernoulli_nb</td>\n",
       "      <td>0.588235</td>\n",
       "      <td>0.417281</td>\n",
       "    </tr>\n",
       "    <tr>\n",
       "      <th>10</th>\n",
       "      <td>24</td>\n",
       "      <td>0.04</td>\n",
       "      <td>qda</td>\n",
       "      <td>0.588235</td>\n",
       "      <td>0.538414</td>\n",
       "    </tr>\n",
       "    <tr>\n",
       "      <th>9</th>\n",
       "      <td>25</td>\n",
       "      <td>0.04</td>\n",
       "      <td>qda</td>\n",
       "      <td>0.588235</td>\n",
       "      <td>0.804530</td>\n",
       "    </tr>\n",
       "  </tbody>\n",
       "</table>\n",
       "</div>"
      ],
      "text/plain": [
       "          rank  ensemble_weight                 type      cost  duration\n",
       "model_id                                                                \n",
       "16           1             0.10                  qda  0.204940  0.734807\n",
       "25           2             0.10                  mlp  0.232785  0.754313\n",
       "27           3             0.06        random_forest  0.251119  0.949345\n",
       "11           4             0.08         bernoulli_nb  0.270833  0.673822\n",
       "37           5             0.04          extra_trees  0.273224  0.955189\n",
       "36           6             0.04        random_forest  0.273224  0.950459\n",
       "21           7             0.02                  qda  0.282174  0.456773\n",
       "18           8             0.02         bernoulli_nb  0.291231  0.362605\n",
       "6            9             0.02         bernoulli_nb  0.317136  0.833405\n",
       "22          10             0.02  k_nearest_neighbors  0.337838  0.540298\n",
       "30          11             0.02                  mlp  0.355310  1.103390\n",
       "39          12             0.10                  qda  0.361301  0.484132\n",
       "20          13             0.02        liblinear_svc  0.367024  0.497213\n",
       "2           14             0.02        random_forest  0.399941  1.503620\n",
       "28          15             0.06          extra_trees  0.414525  0.896825\n",
       "7           16             0.02                  qda  0.430005  0.835585\n",
       "4           17             0.02                  qda  0.430005  0.978179\n",
       "15          18             0.04                  mlp  0.430341  1.087817\n",
       "24          19             0.02        decision_tree  0.440176  0.437678\n",
       "35          20             0.04        decision_tree  0.480849  0.418651\n",
       "32          21             0.02          gaussian_nb  0.516247  0.469242\n",
       "29          22             0.02  k_nearest_neighbors  0.539185  0.514419\n",
       "38          23             0.02         bernoulli_nb  0.588235  0.417281\n",
       "10          24             0.04                  qda  0.588235  0.538414\n",
       "9           25             0.04                  qda  0.588235  0.804530"
      ]
     },
     "execution_count": 10,
     "metadata": {},
     "output_type": "execute_result"
    }
   ],
   "source": [
    "model.leaderboard()"
   ]
  },
  {
   "cell_type": "code",
   "execution_count": 11,
   "id": "3be1061b-43a7-4644-8328-7a42ec5817d9",
   "metadata": {},
   "outputs": [
    {
     "name": "stdout",
     "output_type": "stream",
     "text": [
      "Accuracy: 0.7631578947368421\n"
     ]
    }
   ],
   "source": [
    "test_pred = model.predict(test_dataset)\n",
    "acc = accuracy_score(test_labels, test_pred)\n",
    "print(f\"Accuracy: {acc}\")"
   ]
  },
  {
   "cell_type": "code",
   "execution_count": 12,
   "id": "5dc9c824-1587-4224-9c2a-68fb33fd546d",
   "metadata": {},
   "outputs": [
    {
     "name": "stdout",
     "output_type": "stream",
     "text": [
      "Accuracy: 0.7631578947368421\n"
     ]
    }
   ],
   "source": [
    "valid_pred = model.predict(valid_dataset)\n",
    "acc = accuracy_score(valid_labels, valid_pred)\n",
    "print(f\"Accuracy: {acc}\")"
   ]
  },
  {
   "cell_type": "code",
   "execution_count": 13,
   "id": "0bf41b94-4479-41b8-aeda-aa40f038d1f6",
   "metadata": {},
   "outputs": [
    {
     "name": "stdout",
     "output_type": "stream",
     "text": [
      "Lowest loss: 0.20494013590766902\n",
      "Best configuration: Configuration:\n",
      "  balancing:strategy, Value: 'weighting'\n",
      "  classifier:__choice__, Value: 'qda'\n",
      "  classifier:qda:reg_param, Value: 0.6853795662373928\n",
      "  data_preprocessor:__choice__, Value: 'feature_type'\n",
      "  data_preprocessor:feature_type:categorical_transformer:categorical_encoding:__choice__, Value: 'one_hot_encoding'\n",
      "  data_preprocessor:feature_type:categorical_transformer:category_coalescence:__choice__, Value: 'minority_coalescer'\n",
      "  data_preprocessor:feature_type:categorical_transformer:category_coalescence:minority_coalescer:minimum_fraction, Value: 0.02131685733757235\n",
      "  data_preprocessor:feature_type:numerical_transformer:imputation:strategy, Value: 'mean'\n",
      "  data_preprocessor:feature_type:numerical_transformer:rescaling:__choice__, Value: 'power_transformer'\n",
      "  feature_preprocessor:__choice__, Value: 'extra_trees_preproc_for_classification'\n",
      "  feature_preprocessor:extra_trees_preproc_for_classification:bootstrap, Value: 'True'\n",
      "  feature_preprocessor:extra_trees_preproc_for_classification:criterion, Value: 'gini'\n",
      "  feature_preprocessor:extra_trees_preproc_for_classification:max_depth, Constant: 'None'\n",
      "  feature_preprocessor:extra_trees_preproc_for_classification:max_features, Value: 0.1469614506258593\n",
      "  feature_preprocessor:extra_trees_preproc_for_classification:max_leaf_nodes, Constant: 'None'\n",
      "  feature_preprocessor:extra_trees_preproc_for_classification:min_impurity_decrease, Constant: 0.0\n",
      "  feature_preprocessor:extra_trees_preproc_for_classification:min_samples_leaf, Value: 7\n",
      "  feature_preprocessor:extra_trees_preproc_for_classification:min_samples_split, Value: 7\n",
      "  feature_preprocessor:extra_trees_preproc_for_classification:min_weight_fraction_leaf, Constant: 0.0\n",
      "  feature_preprocessor:extra_trees_preproc_for_classification:n_estimators, Constant: 100\n",
      "\n"
     ]
    }
   ],
   "source": [
    "losses_and_configurations = [\n",
    "    (run_value.cost, run_key.config_id)\n",
    "    for run_key, run_value in model.automl_.runhistory_.data.items()\n",
    "]\n",
    "losses_and_configurations.sort()\n",
    "print(\"Lowest loss:\", losses_and_configurations[0][0])\n",
    "print(\n",
    "    \"Best configuration:\",\n",
    "    model.automl_.runhistory_.ids_config[losses_and_configurations[0][1]]\n",
    ")"
   ]
  },
  {
   "cell_type": "code",
   "execution_count": 14,
   "id": "d60085f5-e315-4fee-814f-1ad216e632db",
   "metadata": {},
   "outputs": [],
   "source": [
    "# Save the best model as a file\n",
    "results = model # the classifier/regressor itself\n",
    "pickle.dump(results, open('cc_vs_others_classifier.pkl','wb'))"
   ]
  },
  {
   "cell_type": "code",
   "execution_count": null,
   "id": "b6e1fee9-0108-4ee8-8b40-23583cb798e6",
   "metadata": {},
   "outputs": [],
   "source": []
  }
 ],
 "metadata": {
  "kernelspec": {
   "display_name": "Python 3 (ipykernel)",
   "language": "python",
   "name": "python3"
  },
  "language_info": {
   "codemirror_mode": {
    "name": "ipython",
    "version": 3
   },
   "file_extension": ".py",
   "mimetype": "text/x-python",
   "name": "python",
   "nbconvert_exporter": "python",
   "pygments_lexer": "ipython3",
   "version": "3.8.10"
  }
 },
 "nbformat": 4,
 "nbformat_minor": 5
}
