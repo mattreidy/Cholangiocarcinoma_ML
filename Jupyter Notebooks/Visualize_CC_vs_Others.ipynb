{
 "cells": [
  {
   "cell_type": "markdown",
   "id": "54698eb3",
   "metadata": {},
   "source": [
    "Copyright (C) 2022 Greenweaves Software Limited"
   ]
  },
  {
   "cell_type": "markdown",
   "id": "1fcad0d2",
   "metadata": {},
   "source": [
    "This is free software: you can redistribute it and/or modify\n",
    "it under the terms of the GNU General Public License as published by\n",
    "the Free Software Foundation, either version 3 of the License, or\n",
    "(at your option) any later version."
   ]
  },
  {
   "cell_type": "markdown",
   "id": "aa02ca9e",
   "metadata": {},
   "source": [
    "This software is distributed in the hope that it will be useful,\n",
    "but WITHOUT ANY WARRANTY; without even the implied warranty of\n",
    "MERCHANTABILITY or FITNESS FOR A PARTICULAR PURPOSE.  See the\n",
    "GNU General Public License for more details."
   ]
  },
  {
   "cell_type": "markdown",
   "id": "5cff6ce9",
   "metadata": {},
   "source": [
    "You should have received a copy of the GNU General Public License\n",
    "along with GNU Emacs.  If not, see <http://www.gnu.org/licenses/>"
   ]
  },
  {
   "cell_type": "code",
   "execution_count": null,
   "id": "a7038cce",
   "metadata": {
    "lines_to_next_cell": 1
   },
   "outputs": [],
   "source": [
    "from os.path           import join\n",
    "from matplotlib.pyplot import figure, savefig, show, title\n",
    "from pandas            import read_csv\n",
    "from seaborn           import heatmap"
   ]
  },
  {
   "cell_type": "code",
   "execution_count": null,
   "id": "d805f224",
   "metadata": {
    "lines_to_next_cell": 1
   },
   "outputs": [],
   "source": [
    "def read_and_split(path      = r'D:\\data\\cancer_mutations',\n",
    "                   file_name = 'cancer_mutations',\n",
    "                   ext       = 'txt'):\n",
    "    def extract(df,cancer_type=0):\n",
    "        return df.loc[df.cancer_type==cancer_type,].drop(['cancer_type'],\n",
    "                                               axis    = 1,\n",
    "                                               inplace = False)\n",
    "    df = read_csv(join(path,f'{file_name}.{ext}'), sep='\\t')\n",
    "    return (extract(df,cancer_type=0),\n",
    "            extract(df,cancer_type=1))"
   ]
  },
  {
   "cell_type": "code",
   "execution_count": null,
   "id": "82d08296",
   "metadata": {
    "lines_to_next_cell": 1
   },
   "outputs": [],
   "source": [
    "def decorate_plot(ax    = None,\n",
    "                  title = 'Cancer'):\n",
    "    ax.set_title(title)\n",
    "    ax.tick_params(which       = 'both',\n",
    "                   bottom      = False,\n",
    "                   top         = False,\n",
    "                   labelleft   = False,\n",
    "                   labelbottom = False )"
   ]
  },
  {
   "cell_type": "code",
   "execution_count": null,
   "id": "596bbd7a",
   "metadata": {},
   "outputs": [],
   "source": [
    "if __name__=='__main__':\n",
    "    other_cancer,cholangiocarcinoma = read_and_split()\n",
    "    counts_other                    = other_cancer.sum(axis=0)\n",
    "    sorted_on_counts                = counts_other.sort_values(ascending=False)\n",
    "    counts_cholangiocarcinoma       = cholangiocarcinoma.sum(axis=0)\n",
    "    keys = sorted_on_counts.keys()\n",
    "\n",
    "    fig             = figure(figsize=(20,20))\n",
    "    axs             = fig.subplots(2)\n",
    "    decorate_plot(ax    = axs[0],\n",
    "                  title = f'Other Cancer {other_cancer.shape[0]} samples')\n",
    "    heatmap(other_cancer[keys.tolist()],\n",
    "            ax   = axs[0],\n",
    "            vmin = 0,\n",
    "            vmax = 1)\n",
    "    decorate_plot(ax    = axs[1],\n",
    "                  title = f'Cholangiocarcinoma {cholangiocarcinoma.shape[0]} samples')\n",
    "    heatmap(cholangiocarcinoma[keys.tolist()],\n",
    "            ax   = axs[1],\n",
    "            vmin = 0,\n",
    "            vmax = 1)\n",
    "    savefig('cancerEDA.png')\n",
    "    show()"
   ]
  }
 ],
 "metadata": {
  "jupytext": {
   "cell_metadata_filter": "-all",
   "main_language": "python",
   "notebook_metadata_filter": "-all"
  }
 },
 "nbformat": 4,
 "nbformat_minor": 5
}
